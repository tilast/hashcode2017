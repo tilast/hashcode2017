{
 "cells": [
  {
   "cell_type": "code",
   "execution_count": 90,
   "metadata": {
    "collapsed": true
   },
   "outputs": [],
   "source": [
    "kittens = open('./example.in')"
   ]
  },
  {
   "cell_type": "code",
   "execution_count": 91,
   "metadata": {
    "collapsed": true
   },
   "outputs": [],
   "source": [
    "lines = kittens.readlines()"
   ]
  },
  {
   "cell_type": "code",
   "execution_count": 92,
   "metadata": {
    "collapsed": false
   },
   "outputs": [],
   "source": [
    "lines = [l.strip() for l in lines]\n",
    "current_line = 0"
   ]
  },
  {
   "cell_type": "code",
   "execution_count": 93,
   "metadata": {
    "collapsed": false
   },
   "outputs": [],
   "source": [
    "videos_count, endpoints_count, requests_descriptions_count, caches_count, cache_size = [int(l) for l in lines[current_line].split(' ')]\n",
    "current_line += 1"
   ]
  },
  {
   "cell_type": "code",
   "execution_count": 94,
   "metadata": {
    "collapsed": false
   },
   "outputs": [],
   "source": [
    "video_sizes = [int(l) for l in lines[current_line].split()]\n",
    "current_line += 1"
   ]
  },
  {
   "cell_type": "code",
   "execution_count": 95,
   "metadata": {
    "collapsed": false
   },
   "outputs": [],
   "source": [
    "videos_map = dict()\n",
    "for i in range(videos_count):\n",
    "    videos_map[i] = video_sizes[i]\n",
    "\n",
    "latencies = dict()"
   ]
  },
  {
   "cell_type": "code",
   "execution_count": 96,
   "metadata": {
    "collapsed": false
   },
   "outputs": [],
   "source": [
    "for ec in range(endpoints_count):\n",
    "    endpoint_dc_latency, caches_amount = [int(l) for l in lines[current_line].split()]\n",
    "    current_line += 1\n",
    "    latencies[(ec, -1)] = endpoint_dc_latency\n",
    "\n",
    "    for ca in range(caches_amount):\n",
    "        cache_index, latency = [int(l) for l in lines[current_line].split()]\n",
    "        current_line += 1\n",
    "\n",
    "        latencies[(ec, cache_index)] = latency\n"
   ]
  },
  {
   "cell_type": "code",
   "execution_count": 97,
   "metadata": {
    "collapsed": false
   },
   "outputs": [],
   "source": [
    "requests_list = []\n",
    "for i in range(requests_descriptions_count):\n",
    "    video_id, endpoint_id, requests_count = [int(l) for l in lines[current_line].split()]\n",
    "    current_line += 1\n",
    "\n",
    "    requests_list.append((video_id, endpoint_id, requests_count))"
   ]
  },
  {
   "cell_type": "code",
   "execution_count": 98,
   "metadata": {
    "collapsed": false
   },
   "outputs": [
    {
     "data": {
      "text/plain": [
       "[(3, 0, 1500), (0, 1, 1000), (4, 0, 500), (1, 0, 1000)]"
      ]
     },
     "execution_count": 98,
     "metadata": {},
     "output_type": "execute_result"
    }
   ],
   "source": [
    "requests_list"
   ]
  },
  {
   "cell_type": "code",
   "execution_count": 118,
   "metadata": {
    "collapsed": false
   },
   "outputs": [],
   "source": [
    "endpoints_to_sources = dict()\n",
    "\n",
    "for (endpoint, source_id),v in latencies.items():\n",
    "    if endpoint in endpoints_to_sources:\n",
    "        endpoints_to_sources[endpoint].add(source_id)\n",
    "    else:\n",
    "        endpoints_to_sources[endpoint] = set([source_id])"
   ]
  },
  {
   "cell_type": "code",
   "execution_count": 121,
   "metadata": {
    "collapsed": false
   },
   "outputs": [],
   "source": [
    "caches_to_videos = dict()"
   ]
  },
  {
   "cell_type": "code",
   "execution_count": null,
   "metadata": {
    "collapsed": true
   },
   "outputs": [],
   "source": []
  }
 ],
 "metadata": {
  "kernelspec": {
   "display_name": "Python 3",
   "language": "python",
   "name": "python3"
  },
  "language_info": {
   "codemirror_mode": {
    "name": "ipython",
    "version": 3
   },
   "file_extension": ".py",
   "mimetype": "text/x-python",
   "name": "python",
   "nbconvert_exporter": "python",
   "pygments_lexer": "ipython3",
   "version": "3.6.0"
  }
 },
 "nbformat": 4,
 "nbformat_minor": 2
}
