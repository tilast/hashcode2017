{
 "cells": [
  {
   "cell_type": "code",
   "execution_count": 209,
   "metadata": {
    "collapsed": true,
    "deletable": true,
    "editable": true
   },
   "outputs": [],
   "source": [
    "kittens = open('./trending_today.in')"
   ]
  },
  {
   "cell_type": "code",
   "execution_count": 210,
   "metadata": {
    "collapsed": true,
    "deletable": true,
    "editable": true
   },
   "outputs": [],
   "source": [
    "lines = kittens.readlines()"
   ]
  },
  {
   "cell_type": "code",
   "execution_count": 211,
   "metadata": {
    "collapsed": false,
    "deletable": true,
    "editable": true
   },
   "outputs": [],
   "source": [
    "lines = [l.strip() for l in lines]\n",
    "current_line = 0"
   ]
  },
  {
   "cell_type": "code",
   "execution_count": 212,
   "metadata": {
    "collapsed": false,
    "deletable": true,
    "editable": true
   },
   "outputs": [],
   "source": [
    "videos_count, endpoints_count, requests_descriptions_count, caches_count, cache_size = [int(l) for l in lines[current_line].split(' ')]\n",
    "current_line += 1"
   ]
  },
  {
   "cell_type": "code",
   "execution_count": 213,
   "metadata": {
    "collapsed": false,
    "deletable": true,
    "editable": true
   },
   "outputs": [],
   "source": [
    "video_sizes = [int(l) for l in lines[current_line].split()]\n",
    "current_line += 1"
   ]
  },
  {
   "cell_type": "code",
   "execution_count": 214,
   "metadata": {
    "collapsed": false,
    "deletable": true,
    "editable": true
   },
   "outputs": [],
   "source": [
    "videos_map = dict()\n",
    "for i in range(videos_count):\n",
    "    videos_map[i] = video_sizes[i]\n",
    "\n",
    "latencies = dict()"
   ]
  },
  {
   "cell_type": "code",
   "execution_count": 215,
   "metadata": {
    "collapsed": false,
    "deletable": true,
    "editable": true
   },
   "outputs": [],
   "source": [
    "for ec in range(endpoints_count):\n",
    "    endpoint_dc_latency, caches_amount = [int(l) for l in lines[current_line].split()]\n",
    "    current_line += 1\n",
    "    latencies[(ec, -1)] = endpoint_dc_latency\n",
    "\n",
    "    for ca in range(caches_amount):\n",
    "        cache_index, latency = [int(l) for l in lines[current_line].split()]\n",
    "        current_line += 1\n",
    "\n",
    "        latencies[(ec, cache_index)] = latency\n"
   ]
  },
  {
   "cell_type": "code",
   "execution_count": 216,
   "metadata": {
    "collapsed": false,
    "deletable": true,
    "editable": true
   },
   "outputs": [],
   "source": [
    "requests_list = []\n",
    "for i in range(requests_descriptions_count):\n",
    "    video_id, endpoint_id, requests_count = [int(l) for l in lines[current_line].split()]\n",
    "    current_line += 1\n",
    "\n",
    "    requests_list.append((video_id, endpoint_id, requests_count))"
   ]
  },
  {
   "cell_type": "code",
   "execution_count": 217,
   "metadata": {
    "collapsed": false,
    "deletable": true,
    "editable": true
   },
   "outputs": [],
   "source": [
    "# requests_list"
   ]
  },
  {
   "cell_type": "code",
   "execution_count": 218,
   "metadata": {
    "collapsed": false,
    "deletable": true,
    "editable": true
   },
   "outputs": [],
   "source": [
    "endpoints_to_sources = dict()\n",
    "\n",
    "for (endpoint, source_id),v in latencies.items():\n",
    "    if endpoint in endpoints_to_sources:\n",
    "        endpoints_to_sources[endpoint].add(source_id)\n",
    "    else:\n",
    "        endpoints_to_sources[endpoint] = set([source_id])"
   ]
  },
  {
   "cell_type": "code",
   "execution_count": 219,
   "metadata": {
    "collapsed": false,
    "deletable": true,
    "editable": true
   },
   "outputs": [],
   "source": [
    "# source2videos = {0: set([2]), 1: set([3, 1]), 2: set([0, 1])}"
   ]
  },
  {
   "cell_type": "code",
   "execution_count": 220,
   "metadata": {
    "collapsed": false,
    "deletable": true,
    "editable": true
   },
   "outputs": [],
   "source": [
    "def score(source2videos):\n",
    "    score = 0\n",
    "    for video, endpoint, request in requests_list:\n",
    "        sources = endpoints_to_sources[endpoint]\n",
    "        lats = []\n",
    "        for source in sources:\n",
    "            if source != -1 and video in source2videos[source]:\n",
    "                lats.append(latencies[(endpoint, source)])\n",
    "            else: \n",
    "                lats.append(latencies[(endpoint, -1)])\n",
    "        score += request * (latencies[(endpoint, -1)] - min(lats))\n",
    "    return score"
   ]
  },
  {
   "cell_type": "code",
   "execution_count": 221,
   "metadata": {
    "collapsed": false,
    "deletable": true,
    "editable": true
   },
   "outputs": [
    {
     "ename": "KeyboardInterrupt",
     "evalue": "",
     "output_type": "error",
     "traceback": [
      "\u001b[0;31m---------------------------------------------------------------------------\u001b[0m",
      "\u001b[0;31mKeyboardInterrupt\u001b[0m                         Traceback (most recent call last)",
      "\u001b[0;32m<ipython-input-221-73bd1a7f01cd>\u001b[0m in \u001b[0;36m<module>\u001b[0;34m()\u001b[0m\n\u001b[1;32m     16\u001b[0m                 \u001b[0mfree\u001b[0m \u001b[0;34m-=\u001b[0m \u001b[0mcurrent_chosen_size\u001b[0m\u001b[0;34m\u001b[0m\u001b[0m\n\u001b[1;32m     17\u001b[0m         \u001b[0msource2videos\u001b[0m\u001b[0;34m[\u001b[0m\u001b[0msource\u001b[0m\u001b[0;34m]\u001b[0m \u001b[0;34m=\u001b[0m \u001b[0mcurrent_source_set\u001b[0m\u001b[0;34m\u001b[0m\u001b[0m\n\u001b[0;32m---> 18\u001b[0;31m     \u001b[0mcurrent_score\u001b[0m \u001b[0;34m=\u001b[0m \u001b[0mscore\u001b[0m\u001b[0;34m(\u001b[0m\u001b[0msource2videos\u001b[0m\u001b[0;34m)\u001b[0m\u001b[0;34m\u001b[0m\u001b[0m\n\u001b[0m\u001b[1;32m     19\u001b[0m     \u001b[0;32mif\u001b[0m \u001b[0mcurrent_score\u001b[0m \u001b[0;34m>\u001b[0m \u001b[0mbest_score\u001b[0m\u001b[0;34m:\u001b[0m\u001b[0;34m\u001b[0m\u001b[0m\n\u001b[1;32m     20\u001b[0m         \u001b[0mbest_score\u001b[0m \u001b[0;34m=\u001b[0m \u001b[0mcurrent_score\u001b[0m\u001b[0;34m\u001b[0m\u001b[0m\n",
      "\u001b[0;32m<ipython-input-220-7c26385c2b91>\u001b[0m in \u001b[0;36mscore\u001b[0;34m(source2videos)\u001b[0m\n\u001b[1;32m      5\u001b[0m         \u001b[0mlats\u001b[0m \u001b[0;34m=\u001b[0m \u001b[0;34m[\u001b[0m\u001b[0;34m]\u001b[0m\u001b[0;34m\u001b[0m\u001b[0m\n\u001b[1;32m      6\u001b[0m         \u001b[0;32mfor\u001b[0m \u001b[0msource\u001b[0m \u001b[0;32min\u001b[0m \u001b[0msources\u001b[0m\u001b[0;34m:\u001b[0m\u001b[0;34m\u001b[0m\u001b[0m\n\u001b[0;32m----> 7\u001b[0;31m             \u001b[0;32mif\u001b[0m \u001b[0msource\u001b[0m \u001b[0;34m!=\u001b[0m \u001b[0;34m-\u001b[0m\u001b[0;36m1\u001b[0m \u001b[0;32mand\u001b[0m \u001b[0mvideo\u001b[0m \u001b[0;32min\u001b[0m \u001b[0msource2videos\u001b[0m\u001b[0;34m[\u001b[0m\u001b[0msource\u001b[0m\u001b[0;34m]\u001b[0m\u001b[0;34m:\u001b[0m\u001b[0;34m\u001b[0m\u001b[0m\n\u001b[0m\u001b[1;32m      8\u001b[0m                 \u001b[0mlats\u001b[0m\u001b[0;34m.\u001b[0m\u001b[0mappend\u001b[0m\u001b[0;34m(\u001b[0m\u001b[0mlatencies\u001b[0m\u001b[0;34m[\u001b[0m\u001b[0;34m(\u001b[0m\u001b[0mendpoint\u001b[0m\u001b[0;34m,\u001b[0m \u001b[0msource\u001b[0m\u001b[0;34m)\u001b[0m\u001b[0;34m]\u001b[0m\u001b[0;34m)\u001b[0m\u001b[0;34m\u001b[0m\u001b[0m\n\u001b[1;32m      9\u001b[0m             \u001b[0;32melse\u001b[0m\u001b[0;34m:\u001b[0m\u001b[0;34m\u001b[0m\u001b[0m\n",
      "\u001b[0;31mKeyboardInterrupt\u001b[0m: "
     ]
    }
   ],
   "source": [
    "import random\n",
    "best_source2videos = None\n",
    "best_score = 0\n",
    "for j in range(100):\n",
    "    source2videos = {}\n",
    "    videos = [i for i in videos_map.keys()]\n",
    "    for source in range(caches_count):\n",
    "        current_source_set = set()\n",
    "        free = cache_size\n",
    "        current_chosen_size = 0\n",
    "        while free - current_chosen_size >= 0:\n",
    "            chosen = random.choice(videos)\n",
    "            current_chosen_size = videos_map[chosen]\n",
    "            if free - current_chosen_size >= 0:\n",
    "                current_source_set.add(chosen)\n",
    "                free -= current_chosen_size\n",
    "        source2videos[source] = current_source_set\n",
    "    current_score = score(source2videos)\n",
    "    if current_score > best_score:\n",
    "        best_score = current_score\n",
    "        best_source2videos = source2videos\n",
    "\n",
    "# print(best_source2videos)\n",
    "# score(best_source2videos)"
   ]
  },
  {
   "cell_type": "code",
   "execution_count": null,
   "metadata": {
    "collapsed": false,
    "deletable": true,
    "editable": true,
    "scrolled": true
   },
   "outputs": [],
   "source": [
    "with open(\"./trending_today.out\", \"w\") as out:\n",
    "    n = len(best_source2videos)\n",
    "    out.write(str(n))\n",
    "    out.write('\\n')\n",
    "    for source, videos in best_source2videos.items():\n",
    "        out.write(str(source) + \" \" + \" \".join([str(i) for i in videos]))\n",
    "        out.write(\"\\n\")"
   ]
  },
  {
   "cell_type": "code",
   "execution_count": null,
   "metadata": {
    "collapsed": false,
    "deletable": true,
    "editable": true
   },
   "outputs": [],
   "source": []
  },
  {
   "cell_type": "code",
   "execution_count": null,
   "metadata": {
    "collapsed": true,
    "deletable": true,
    "editable": true
   },
   "outputs": [],
   "source": []
  }
 ],
 "metadata": {
  "kernelspec": {
   "display_name": "Python 3",
   "language": "python",
   "name": "python3"
  },
  "language_info": {
   "codemirror_mode": {
    "name": "ipython",
    "version": 3
   },
   "file_extension": ".py",
   "mimetype": "text/x-python",
   "name": "python",
   "nbconvert_exporter": "python",
   "pygments_lexer": "ipython3",
   "version": "3.6.0"
  }
 },
 "nbformat": 4,
 "nbformat_minor": 2
}
