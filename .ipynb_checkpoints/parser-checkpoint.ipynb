{
 "cells": [
  {
   "cell_type": "code",
   "execution_count": 313,
   "metadata": {
    "collapsed": true,
    "deletable": true,
    "editable": true
   },
   "outputs": [],
   "source": [
    "kittens = open('./example.in')"
   ]
  },
  {
   "cell_type": "code",
   "execution_count": 314,
   "metadata": {
    "collapsed": true,
    "deletable": true,
    "editable": true
   },
   "outputs": [],
   "source": [
    "lines = kittens.readlines()"
   ]
  },
  {
   "cell_type": "code",
   "execution_count": 315,
   "metadata": {
    "collapsed": false,
    "deletable": true,
    "editable": true
   },
   "outputs": [],
   "source": [
    "lines = [l.strip() for l in lines]\n",
    "current_line = 0"
   ]
  },
  {
   "cell_type": "code",
   "execution_count": 316,
   "metadata": {
    "collapsed": false,
    "deletable": true,
    "editable": true
   },
   "outputs": [],
   "source": [
    "videos_count, endpoints_count, requests_descriptions_count, caches_count, cache_size = [int(l) for l in lines[current_line].split(' ')]\n",
    "current_line += 1"
   ]
  },
  {
   "cell_type": "code",
   "execution_count": 317,
   "metadata": {
    "collapsed": false,
    "deletable": true,
    "editable": true
   },
   "outputs": [],
   "source": [
    "video_sizes = [int(l) for l in lines[current_line].split()]\n",
    "current_line += 1"
   ]
  },
  {
   "cell_type": "code",
   "execution_count": 318,
   "metadata": {
    "collapsed": false,
    "deletable": true,
    "editable": true
   },
   "outputs": [],
   "source": [
    "videos_map = dict()\n",
    "for i in range(videos_count):\n",
    "    videos_map[i] = video_sizes[i]\n",
    "\n",
    "latencies = dict()"
   ]
  },
  {
   "cell_type": "code",
   "execution_count": 319,
   "metadata": {
    "collapsed": false,
    "deletable": true,
    "editable": true
   },
   "outputs": [],
   "source": [
    "for ec in range(endpoints_count):\n",
    "    endpoint_dc_latency, caches_amount = [int(l) for l in lines[current_line].split()]\n",
    "    current_line += 1\n",
    "    latencies[(ec, -1)] = endpoint_dc_latency\n",
    "\n",
    "    for ca in range(caches_amount):\n",
    "        cache_index, latency = [int(l) for l in lines[current_line].split()]\n",
    "        current_line += 1\n",
    "\n",
    "        latencies[(ec, cache_index)] = latency\n"
   ]
  },
  {
   "cell_type": "code",
   "execution_count": 320,
   "metadata": {
    "collapsed": false,
    "deletable": true,
    "editable": true
   },
   "outputs": [],
   "source": [
    "requests_list = []\n",
    "for i in range(requests_descriptions_count):\n",
    "    video_id, endpoint_id, requests_count = [int(l) for l in lines[current_line].split()]\n",
    "    current_line += 1\n",
    "\n",
    "    requests_list.append((video_id, endpoint_id, requests_count))"
   ]
  },
  {
   "cell_type": "code",
   "execution_count": 321,
   "metadata": {
    "collapsed": false,
    "deletable": true,
    "editable": true
   },
   "outputs": [
    {
     "data": {
      "text/plain": [
       "[(3, 0, 1500), (0, 1, 1000), (4, 0, 500), (1, 0, 1000)]"
      ]
     },
     "execution_count": 321,
     "metadata": {},
     "output_type": "execute_result"
    }
   ],
   "source": [
    "requests_list"
   ]
  },
  {
   "cell_type": "code",
   "execution_count": 322,
   "metadata": {
    "collapsed": false,
    "deletable": true,
    "editable": true
   },
   "outputs": [],
   "source": [
    "endpoints_to_sources = dict()\n",
    "\n",
    "for (endpoint, source_id),v in latencies.items():\n",
    "    if endpoint in endpoints_to_sources:\n",
    "        endpoints_to_sources[endpoint].add(source_id)\n",
    "    else:\n",
    "        endpoints_to_sources[endpoint] = set([source_id])"
   ]
  },
  {
   "cell_type": "code",
   "execution_count": 323,
   "metadata": {
    "collapsed": false,
    "deletable": true,
    "editable": true
   },
   "outputs": [],
   "source": [
    "# source2videos = {0: set([2]), 1: set([3, 1]), 2: set([0, 1])}\n",
    "source2videos = dict()\n",
    "videos2sources = dict()\n",
    "\n",
    "def put_video(video_id, source_id):\n",
    "    if source_id in source2videos:\n",
    "        source2videos[source_id].add(video_id)\n",
    "    else:\n",
    "        source2videos[source_id] = set([video_id])\n",
    "    \n",
    "    if video_id in videos2sources:\n",
    "        videos2sources[video_id].add(source_id)\n",
    "    else:\n",
    "        videos2sources[video_id] = set([source_id])\n",
    "    \n",
    "    # print(source2videos)\n",
    "    # print(videos2sources)"
   ]
  },
  {
   "cell_type": "code",
   "execution_count": 324,
   "metadata": {
    "collapsed": false,
    "deletable": true,
    "editable": true
   },
   "outputs": [],
   "source": [
    "def score(videos_endpoints_requests):\n",
    "    score = 0\n",
    "    for video, endpoint, request in videos_endpoints_requests:\n",
    "        sources = endpoints_to_sources[endpoint]\n",
    "        lats = []\n",
    "        for source in sources:\n",
    "            if source != -1 and video in source2videos[source]:\n",
    "                lats.append(latencies[(endpoint, source)])\n",
    "            else: \n",
    "                lats.append(latencies[(endpoint, -1)])\n",
    "        score += request * (latencies[(endpoint, -1)] - min(lats))\n",
    "    return score"
   ]
  },
  {
   "cell_type": "code",
   "execution_count": 325,
   "metadata": {
    "collapsed": false,
    "deletable": true,
    "editable": true
   },
   "outputs": [
    {
     "ename": "KeyError",
     "evalue": "0",
     "output_type": "error",
     "traceback": [
      "\u001b[0;31m---------------------------------------------------------------------------\u001b[0m",
      "\u001b[0;31mKeyError\u001b[0m                                  Traceback (most recent call last)",
      "\u001b[0;32m<ipython-input-325-8e98657be26d>\u001b[0m in \u001b[0;36m<module>\u001b[0;34m()\u001b[0m\n\u001b[0;32m----> 1\u001b[0;31m \u001b[0mscore\u001b[0m\u001b[0;34m(\u001b[0m\u001b[0mrequests_list\u001b[0m\u001b[0;34m)\u001b[0m\u001b[0;34m\u001b[0m\u001b[0m\n\u001b[0m",
      "\u001b[0;32m<ipython-input-324-72a2281d945d>\u001b[0m in \u001b[0;36mscore\u001b[0;34m(videos_endpoints_requests)\u001b[0m\n\u001b[1;32m      5\u001b[0m         \u001b[0mlats\u001b[0m \u001b[0;34m=\u001b[0m \u001b[0;34m[\u001b[0m\u001b[0;34m]\u001b[0m\u001b[0;34m\u001b[0m\u001b[0m\n\u001b[1;32m      6\u001b[0m         \u001b[0;32mfor\u001b[0m \u001b[0msource\u001b[0m \u001b[0;32min\u001b[0m \u001b[0msources\u001b[0m\u001b[0;34m:\u001b[0m\u001b[0;34m\u001b[0m\u001b[0m\n\u001b[0;32m----> 7\u001b[0;31m             \u001b[0;32mif\u001b[0m \u001b[0msource\u001b[0m \u001b[0;34m!=\u001b[0m \u001b[0;34m-\u001b[0m\u001b[0;36m1\u001b[0m \u001b[0;32mand\u001b[0m \u001b[0mvideo\u001b[0m \u001b[0;32min\u001b[0m \u001b[0msource2videos\u001b[0m\u001b[0;34m[\u001b[0m\u001b[0msource\u001b[0m\u001b[0;34m]\u001b[0m\u001b[0;34m:\u001b[0m\u001b[0;34m\u001b[0m\u001b[0m\n\u001b[0m\u001b[1;32m      8\u001b[0m                 \u001b[0mlats\u001b[0m\u001b[0;34m.\u001b[0m\u001b[0mappend\u001b[0m\u001b[0;34m(\u001b[0m\u001b[0mlatencies\u001b[0m\u001b[0;34m[\u001b[0m\u001b[0;34m(\u001b[0m\u001b[0mendpoint\u001b[0m\u001b[0;34m,\u001b[0m \u001b[0msource\u001b[0m\u001b[0;34m)\u001b[0m\u001b[0;34m]\u001b[0m\u001b[0;34m)\u001b[0m\u001b[0;34m\u001b[0m\u001b[0m\n\u001b[1;32m      9\u001b[0m             \u001b[0;32melse\u001b[0m\u001b[0;34m:\u001b[0m\u001b[0;34m\u001b[0m\u001b[0m\n",
      "\u001b[0;31mKeyError\u001b[0m: 0"
     ]
    }
   ],
   "source": [
    "score(requests_list)"
   ]
  },
  {
   "cell_type": "code",
   "execution_count": 326,
   "metadata": {
    "collapsed": true,
    "deletable": true,
    "editable": true
   },
   "outputs": [],
   "source": [
    "requests_list.sort(key=lambda tup: tup[2], reverse=True)"
   ]
  },
  {
   "cell_type": "code",
   "execution_count": 327,
   "metadata": {
    "collapsed": true
   },
   "outputs": [],
   "source": [
    "def cache_size_remaining(cache_id):\n",
    "    return cache_size - sum([videos_map[video] for video in source2videos[cache_id]])"
   ]
  },
  {
   "cell_type": "code",
   "execution_count": 328,
   "metadata": {
    "collapsed": false
   },
   "outputs": [],
   "source": [
    "# source2videos = dict()\n",
    "# source2videos[1] = set([1, 2])\n",
    "# cache_size_remaining(1)\n",
    "# videos_map[4] = 100"
   ]
  },
  {
   "cell_type": "code",
   "execution_count": 329,
   "metadata": {
    "collapsed": false
   },
   "outputs": [],
   "source": [
    "source2videos = dict()\n",
    "videos2sources = dict()\n",
    "for (video_id, endpoint_id, requests_count) in requests_list:\n",
    "    if video_id not in videos2sources:\n",
    "        min_latency = 10000000000\n",
    "        \n",
    "        source_latencies = []\n",
    "        for source_id in endpoints_to_sources[endpoint_id]:\n",
    "            source_latency = latencies[(endpoint_id, source_id)]\n",
    "            source_latencies.append((source_id, source_latency))\n",
    "        source_latencies.sort(key=lambda tup: tup[1], reverse=False)\n",
    "        source_latencies = list(filter(lambda tup: tup[0] != -1, source_latencies))\n",
    "        \n",
    "        # print(source_latencies)\n",
    "        # print('video_id: %s' % video_id)\n",
    "        # print('endpoint_id: %s' % endpoint_id)\n",
    "        \n",
    "        for source, latency in source_latencies:\n",
    "            # print('source: %s' % source)\n",
    "            # print('latency: %s' % latency)\n",
    "        \n",
    "            if source in source2videos:\n",
    "                if video_id not in source2videos[source]:\n",
    "                    video_size = videos_map[video_id]\n",
    "                    if video_size <= cache_size_remaining(source):\n",
    "                        put_video(video_id, source)\n",
    "                        break\n",
    "                    else:\n",
    "                        continue\n",
    "                        # source2videos[closest_source].add(video_id)\n",
    "            else:\n",
    "                video_size = videos_map[video_id]\n",
    "                # print(video_size)\n",
    "                if video_size <= cache_size:\n",
    "                    # print('put')\n",
    "                    put_video(video_id, source)\n",
    "                    break\n",
    "                else:\n",
    "                    continue\n",
    "                    # source2videos[closest_source] = set([video_id])\n",
    "            \n",
    "            print('a: %s' % source2videos)"
   ]
  },
  {
   "cell_type": "code",
   "execution_count": 330,
   "metadata": {
    "collapsed": false
   },
   "outputs": [
    {
     "data": {
      "text/plain": [
       "{0: {1, 3}}"
      ]
     },
     "execution_count": 330,
     "metadata": {},
     "output_type": "execute_result"
    }
   ],
   "source": [
    "source2videos"
   ]
  },
  {
   "cell_type": "code",
   "execution_count": 331,
   "metadata": {
    "collapsed": false
   },
   "outputs": [
    {
     "data": {
      "text/plain": [
       "{1: {0}, 3: {0}}"
      ]
     },
     "execution_count": 331,
     "metadata": {},
     "output_type": "execute_result"
    }
   ],
   "source": [
    "videos2sources"
   ]
  },
  {
   "cell_type": "code",
   "execution_count": 332,
   "metadata": {
    "collapsed": false
   },
   "outputs": [
    {
     "data": {
      "text/plain": [
       "[(3, 0, 1500), (0, 1, 1000), (1, 0, 1000), (4, 0, 500)]"
      ]
     },
     "execution_count": 332,
     "metadata": {},
     "output_type": "execute_result"
    }
   ],
   "source": [
    "requests_list"
   ]
  },
  {
   "cell_type": "code",
   "execution_count": 333,
   "metadata": {
    "collapsed": false
   },
   "outputs": [
    {
     "ename": "TypeError",
     "evalue": "score() missing 1 required positional argument: 'videos_endpoints_requests'",
     "output_type": "error",
     "traceback": [
      "\u001b[0;31m---------------------------------------------------------------------------\u001b[0m",
      "\u001b[0;31mTypeError\u001b[0m                                 Traceback (most recent call last)",
      "\u001b[0;32m<ipython-input-333-26f24c4dd790>\u001b[0m in \u001b[0;36m<module>\u001b[0;34m()\u001b[0m\n\u001b[0;32m----> 1\u001b[0;31m \u001b[0mscore\u001b[0m\u001b[0;34m(\u001b[0m\u001b[0;34m)\u001b[0m\u001b[0;34m\u001b[0m\u001b[0m\n\u001b[0m",
      "\u001b[0;31mTypeError\u001b[0m: score() missing 1 required positional argument: 'videos_endpoints_requests'"
     ]
    }
   ],
   "source": [
    "score()"
   ]
  },
  {
   "cell_type": "code",
   "execution_count": null,
   "metadata": {
    "collapsed": true
   },
   "outputs": [],
   "source": []
  }
 ],
 "metadata": {
  "kernelspec": {
   "display_name": "Python 3",
   "language": "python",
   "name": "python3"
  },
  "language_info": {
   "codemirror_mode": {
    "name": "ipython",
    "version": 3
   },
   "file_extension": ".py",
   "mimetype": "text/x-python",
   "name": "python",
   "nbconvert_exporter": "python",
   "pygments_lexer": "ipython3",
   "version": "3.6.0"
  }
 },
 "nbformat": 4,
 "nbformat_minor": 2
}
