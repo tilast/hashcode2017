{
 "cells": [
  {
   "cell_type": "code",
   "execution_count": 222,
   "metadata": {
    "collapsed": true,
    "deletable": true,
    "editable": true
   },
   "outputs": [],
   "source": [
    "kittens = open('./videos_worth_spreading.in')"
   ]
  },
  {
   "cell_type": "code",
   "execution_count": 223,
   "metadata": {
    "collapsed": true,
    "deletable": true,
    "editable": true
   },
   "outputs": [],
   "source": [
    "lines = kittens.readlines()"
   ]
  },
  {
   "cell_type": "code",
   "execution_count": 224,
   "metadata": {
    "collapsed": false,
    "deletable": true,
    "editable": true
   },
   "outputs": [],
   "source": [
    "lines = [l.strip() for l in lines]\n",
    "current_line = 0"
   ]
  },
  {
   "cell_type": "code",
   "execution_count": 225,
   "metadata": {
    "collapsed": false,
    "deletable": true,
    "editable": true
   },
   "outputs": [],
   "source": [
    "videos_count, endpoints_count, requests_descriptions_count, caches_count, cache_size = [int(l) for l in lines[current_line].split(' ')]\n",
    "current_line += 1"
   ]
  },
  {
   "cell_type": "code",
   "execution_count": 226,
   "metadata": {
    "collapsed": false,
    "deletable": true,
    "editable": true
   },
   "outputs": [],
   "source": [
    "video_sizes = [int(l) for l in lines[current_line].split()]\n",
    "current_line += 1"
   ]
  },
  {
   "cell_type": "code",
   "execution_count": 227,
   "metadata": {
    "collapsed": false,
    "deletable": true,
    "editable": true
   },
   "outputs": [],
   "source": [
    "videos_map = dict()\n",
    "for i in range(videos_count):\n",
    "    videos_map[i] = video_sizes[i]\n",
    "\n",
    "latencies = dict()"
   ]
  },
  {
   "cell_type": "code",
   "execution_count": 228,
   "metadata": {
    "collapsed": false,
    "deletable": true,
    "editable": true
   },
   "outputs": [],
   "source": [
    "for ec in range(endpoints_count):\n",
    "    endpoint_dc_latency, caches_amount = [int(l) for l in lines[current_line].split()]\n",
    "    current_line += 1\n",
    "    latencies[(ec, -1)] = endpoint_dc_latency\n",
    "\n",
    "    for ca in range(caches_amount):\n",
    "        cache_index, latency = [int(l) for l in lines[current_line].split()]\n",
    "        current_line += 1\n",
    "\n",
    "        latencies[(ec, cache_index)] = latency\n"
   ]
  },
  {
   "cell_type": "code",
   "execution_count": 229,
   "metadata": {
    "collapsed": false,
    "deletable": true,
    "editable": true
   },
   "outputs": [],
   "source": [
    "requests_list = []\n",
    "for i in range(requests_descriptions_count):\n",
    "    video_id, endpoint_id, requests_count = [int(l) for l in lines[current_line].split()]\n",
    "    current_line += 1\n",
    "\n",
    "    requests_list.append((video_id, endpoint_id, requests_count))"
   ]
  },
  {
   "cell_type": "code",
   "execution_count": 230,
   "metadata": {
    "collapsed": false,
    "deletable": true,
    "editable": true
   },
   "outputs": [],
   "source": [
    "# requests_list"
   ]
  },
  {
   "cell_type": "code",
   "execution_count": 231,
   "metadata": {
    "collapsed": false,
    "deletable": true,
    "editable": true
   },
   "outputs": [],
   "source": [
    "endpoints_to_sources = dict()\n",
    "\n",
    "for (endpoint, source_id),v in latencies.items():\n",
    "    if endpoint in endpoints_to_sources:\n",
    "        endpoints_to_sources[endpoint].add(source_id)\n",
    "    else:\n",
    "        endpoints_to_sources[endpoint] = set([source_id])"
   ]
  },
  {
   "cell_type": "code",
   "execution_count": 232,
   "metadata": {
    "collapsed": false,
    "deletable": true,
    "editable": true
   },
   "outputs": [],
   "source": [
    "# source2videos = {0: set([2]), 1: set([3, 1]), 2: set([0, 1])}"
   ]
  },
  {
   "cell_type": "code",
   "execution_count": 233,
   "metadata": {
    "collapsed": false,
    "deletable": true,
    "editable": true
   },
   "outputs": [],
   "source": [
    "def score(source2videos):\n",
    "    score = 0\n",
    "    for video, endpoint, request in requests_list:\n",
    "        sources = endpoints_to_sources[endpoint]\n",
    "        lats = []\n",
    "        for source in sources:\n",
    "            if source != -1 and video in source2videos[source]:\n",
    "                lats.append(latencies[(endpoint, source)])\n",
    "            else: \n",
    "                lats.append(latencies[(endpoint, -1)])\n",
    "        score += request * (latencies[(endpoint, -1)] - min(lats))\n",
    "    return score"
   ]
  },
  {
   "cell_type": "code",
   "execution_count": 234,
   "metadata": {
    "collapsed": false
   },
   "outputs": [],
   "source": [
    "import random\n",
    "best_source2videos = None\n",
    "best_score = 0\n",
    "for j in range(100):\n",
    "    source2videos = {}\n",
    "    videos = [i for i in videos_map.keys()]\n",
    "    for source in range(caches_count):\n",
    "        current_source_set = set()\n",
    "        free = cache_size\n",
    "        current_chosen_size = 0\n",
    "        while free - current_chosen_size >= 0:\n",
    "            chosen = random.choice(videos)\n",
    "            current_chosen_size = videos_map[chosen]\n",
    "            if free - current_chosen_size >= 0:\n",
    "                current_source_set.add(chosen)\n",
    "                free -= current_chosen_size\n",
    "        source2videos[source] = current_source_set\n",
    "    current_score = score(source2videos)\n",
    "    if current_score > best_score:\n",
    "        best_score = current_score\n",
    "        best_source2videos = source2videos\n",
    "\n",
    "# print(best_source2videos)\n",
    "# score(best_source2videos)"
   ]
  },
  {
   "cell_type": "code",
   "execution_count": 235,
   "metadata": {
    "collapsed": false,
    "scrolled": true
   },
   "outputs": [],
   "source": [
    "with open(\"./videos_worth_spreading.out\", \"w\") as out:\n",
    "    n = len(best_source2videos)\n",
    "    out.write(str(n))\n",
    "    out.write('\\n')\n",
    "    for source, videos in best_source2videos.items():\n",
    "        out.write(str(source) + \" \" + \" \".join([str(i) for i in videos]))\n",
    "        out.write(\"\\n\")"
   ]
  },
  {
   "cell_type": "code",
   "execution_count": null,
   "metadata": {
    "collapsed": false
   },
   "outputs": [],
   "source": []
  },
  {
   "cell_type": "code",
   "execution_count": null,
   "metadata": {
    "collapsed": true
   },
   "outputs": [],
   "source": []
  }
 ],
 "metadata": {
  "kernelspec": {
   "display_name": "Python 3",
   "language": "python",
   "name": "python3"
  }
 },
 "nbformat": 4,
 "nbformat_minor": 2
}
